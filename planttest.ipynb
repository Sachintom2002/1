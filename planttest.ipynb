{
 "cells": [
  {
   "cell_type": "code",
   "execution_count": 1,
   "metadata": {},
   "outputs": [],
   "source": [
    "import tensorflow as tf\n",
    "from tensorflow.keras import models,layers\n",
    "import matplotlib.pyplot as plt\n",
    "import numpy as np\n",
    "from sklearn.externals import joblib\n",
    "from PIL import Image"
   ]
  },
  {
   "cell_type": "code",
   "execution_count": 2,
   "metadata": {},
   "outputs": [],
   "source": [
    "isize=256  #imagesize\n",
    "bsize=32   #batchsize\n",
    "channel=3  \n",
    "epochs=30"
   ]
  },
  {
   "cell_type": "code",
   "execution_count": 3,
   "metadata": {},
   "outputs": [
    {
     "name": "stdout",
     "output_type": "stream",
     "text": [
      "Found 2610 files belonging to 3 classes.\n"
     ]
    }
   ],
   "source": [
    "dataset=tf.keras.preprocessing.image_dataset_from_directory(\n",
    "\"photos\",shuffle=True,image_size=(isize,isize),batch_size=bsize)  #images in photo file\n",
    "x=dataset.class_names"
   ]
  },
  {
   "cell_type": "code",
   "execution_count": 4,
   "metadata": {},
   "outputs": [],
   "source": [
    "def get_dataset_partitions(ds,train_split=0.8,val_split=0.1,test_split=0.1,shuffle=True,shuffle_size=10000):\n",
    "    ds_size=len(ds)\n",
    "    if shuffle:\n",
    "        ds=ds.shuffle(shuffle_size,seed=12)\n",
    "    train_size=int(train_split*ds_size)\n",
    "    val_size=int(val_split*ds_size)\n",
    "    \n",
    "    train_ds=ds.take(train_size)\n",
    "    ds.skip(train_size)\n",
    "    val_ds=ds.take(val_size)\n",
    "    ds.skip(val_size)\n",
    "    test_ds=ds.take(val_size)\n",
    "    return train_ds,val_ds,test_ds"
   ]
  },
  {
   "cell_type": "code",
   "execution_count": 5,
   "metadata": {},
   "outputs": [],
   "source": [
    "train_ds, val_ds, test_ds=get_dataset_partitions(dataset)"
   ]
  },
  {
   "cell_type": "code",
   "execution_count": 6,
   "metadata": {},
   "outputs": [],
   "source": [
    "train_ds=train_ds.cache().shuffle(1000).prefetch(buffer_size=tf.data.AUTOTUNE)\n",
    "val_ds=val_ds.cache().shuffle(1000).prefetch(buffer_size=tf.data.AUTOTUNE)\n",
    "test_ds=test_ds.cache().shuffle(1000).prefetch(buffer_size=tf.data.AUTOTUNE)"
   ]
  },
  {
   "cell_type": "code",
   "execution_count": 7,
   "metadata": {},
   "outputs": [],
   "source": [
    "rr=tf.keras.Sequential([layers.experimental.preprocessing.Resizing(isize,isize),\n",
    "                     layers.experimental.preprocessing.Rescaling(1.0/255)])"
   ]
  },
  {
   "cell_type": "code",
   "execution_count": 8,
   "metadata": {},
   "outputs": [],
   "source": [
    "da=tf.keras.Sequential([layers.experimental.preprocessing.RandomFlip(\"horizontal_and_vertical\"),\n",
    "                     layers.experimental.preprocessing.RandomRotation(0.2)])"
   ]
  },
  {
   "cell_type": "code",
   "execution_count": 9,
   "metadata": {},
   "outputs": [
    {
     "name": "stdout",
     "output_type": "stream",
     "text": [
      "Model: \"sequential_2\"\n",
      "_________________________________________________________________\n",
      " Layer (type)                Output Shape              Param #   \n",
      "=================================================================\n",
      " sequential (Sequential)     (32, 256, 256, 3)         0         \n",
      "                                                                 \n",
      " sequential_1 (Sequential)   (32, 256, 256, 3)         0         \n",
      "                                                                 \n",
      " conv2d (Conv2D)             (32, 254, 254, 32)        896       \n",
      "                                                                 \n",
      " max_pooling2d (MaxPooling2  (32, 127, 127, 32)        0         \n",
      " D)                                                              \n",
      "                                                                 \n",
      " dropout (Dropout)           (32, 127, 127, 32)        0         \n",
      "                                                                 \n",
      " conv2d_1 (Conv2D)           (32, 127, 127, 64)        18496     \n",
      "                                                                 \n",
      " max_pooling2d_1 (MaxPoolin  (32, 63, 63, 64)          0         \n",
      " g2D)                                                            \n",
      "                                                                 \n",
      " dropout_1 (Dropout)         (32, 63, 63, 64)          0         \n",
      "                                                                 \n",
      " conv2d_2 (Conv2D)           (32, 63, 63, 64)          36928     \n",
      "                                                                 \n",
      " max_pooling2d_2 (MaxPoolin  (32, 31, 31, 64)          0         \n",
      " g2D)                                                            \n",
      "                                                                 \n",
      " conv2d_3 (Conv2D)           (32, 31, 31, 64)          36928     \n",
      "                                                                 \n",
      " max_pooling2d_3 (MaxPoolin  (32, 15, 15, 64)          0         \n",
      " g2D)                                                            \n",
      "                                                                 \n",
      " conv2d_4 (Conv2D)           (32, 15, 15, 64)          36928     \n",
      "                                                                 \n",
      " max_pooling2d_4 (MaxPoolin  (32, 7, 7, 64)            0         \n",
      " g2D)                                                            \n",
      "                                                                 \n",
      " conv2d_5 (Conv2D)           (32, 7, 7, 64)            36928     \n",
      "                                                                 \n",
      " max_pooling2d_5 (MaxPoolin  (32, 3, 3, 64)            0         \n",
      " g2D)                                                            \n",
      "                                                                 \n",
      " flatten (Flatten)           (32, 576)                 0         \n",
      "                                                                 \n",
      " dense (Dense)               (32, 64)                  36928     \n",
      "                                                                 \n",
      " dense_1 (Dense)             (32, 3)                   195       \n",
      "                                                                 \n",
      "=================================================================\n",
      "Total params: 204227 (797.76 KB)\n",
      "Trainable params: 204227 (797.76 KB)\n",
      "Non-trainable params: 0 (0.00 Byte)\n",
      "_________________________________________________________________\n"
     ]
    }
   ],
   "source": [
    "#Build the CNN model\n",
    "input_shape=(bsize, isize, isize, channel)\n",
    "model = models.Sequential([\n",
    "    rr,\n",
    "    da,\n",
    "    layers.Conv2D(32, (3, 3), activation='relu', input_shape=(isize, isize, channel)),\n",
    "    layers.MaxPooling2D((2, 2)),\n",
    "    layers.Dropout(0.5),\n",
    "    layers.Conv2D(64, (3, 3), activation='relu', padding='same'),\n",
    "    layers.MaxPooling2D((2, 2)),\n",
    "    layers.Dropout(0.5),\n",
    "    layers.Conv2D(64, (3, 3), activation='relu', padding='same'),\n",
    "    layers.MaxPooling2D((2, 2)),\n",
    "    layers.Conv2D(64, (3, 3), activation='relu', padding='same'),\n",
    "    layers.MaxPooling2D((2, 2)),\n",
    "    layers.Conv2D(64, (3, 3), activation='relu', padding='same'),\n",
    "    layers.MaxPooling2D((2, 2)),\n",
    "    layers.Conv2D(64, (3, 3), activation='relu', padding='same'),\n",
    "    layers.MaxPooling2D((2, 2)),\n",
    "    layers.Flatten(),\n",
    "    layers.Dense(64, activation='relu'),\n",
    "    layers.Dense(len(dataset.class_names), activation='softmax')\n",
    "])\n",
    "model.build(input_shape=input_shape)\n",
    "model.summary()"
   ]
  },
  {
   "cell_type": "code",
   "execution_count": 10,
   "metadata": {},
   "outputs": [],
   "source": [
    "# # Compile the model\n",
    "model.compile(optimizer='adam',\n",
    "               loss=tf.keras.losses.SparseCategoricalCrossentropy(from_logits=True),\n",
    "               metrics=['accuracy'])"
   ]
  },
  {
   "cell_type": "code",
   "execution_count": 11,
   "metadata": {},
   "outputs": [
    {
     "name": "stdout",
     "output_type": "stream",
     "text": [
      "Epoch 1/30\n"
     ]
    },
    {
     "name": "stderr",
     "output_type": "stream",
     "text": [
      "C:\\Users\\mathe_thld2cd\\AppData\\Roaming\\Python\\Python311\\site-packages\\keras\\src\\backend.py:5729: UserWarning: \"`sparse_categorical_crossentropy` received `from_logits=True`, but the `output` argument was produced by a Softmax activation and thus does not represent logits. Was this intended?\n",
      "  output, from_logits = _get_logits(\n"
     ]
    },
    {
     "name": "stdout",
     "output_type": "stream",
     "text": [
      "65/65 [==============================] - 158s 2s/step - loss: 0.9473 - accuracy: 0.4947 - val_loss: 0.5774 - val_accuracy: 0.7070\n",
      "Epoch 2/30\n",
      "65/65 [==============================] - 100s 2s/step - loss: 0.5175 - accuracy: 0.7561 - val_loss: 0.7191 - val_accuracy: 0.6914\n",
      "Epoch 3/30\n",
      "65/65 [==============================] - 99s 2s/step - loss: 0.4033 - accuracy: 0.8253 - val_loss: 0.3639 - val_accuracy: 0.8281\n",
      "Epoch 4/30\n",
      "65/65 [==============================] - 99s 2s/step - loss: 0.3277 - accuracy: 0.8693 - val_loss: 0.2039 - val_accuracy: 0.9180\n",
      "Epoch 5/30\n",
      "65/65 [==============================] - 99s 2s/step - loss: 0.2284 - accuracy: 0.9129 - val_loss: 0.2341 - val_accuracy: 0.9062\n",
      "Epoch 6/30\n",
      "65/65 [==============================] - 102s 2s/step - loss: 0.1667 - accuracy: 0.9385 - val_loss: 0.1730 - val_accuracy: 0.9336\n",
      "Epoch 7/30\n",
      "65/65 [==============================] - 100s 2s/step - loss: 0.1370 - accuracy: 0.9521 - val_loss: 0.0986 - val_accuracy: 0.9609\n",
      "Epoch 8/30\n",
      "65/65 [==============================] - 98s 2s/step - loss: 0.1304 - accuracy: 0.9472 - val_loss: 0.1552 - val_accuracy: 0.9453\n",
      "Epoch 9/30\n",
      "65/65 [==============================] - 98s 2s/step - loss: 0.1112 - accuracy: 0.9569 - val_loss: 0.1137 - val_accuracy: 0.9648\n",
      "Epoch 10/30\n",
      "65/65 [==============================] - 98s 2s/step - loss: 0.0864 - accuracy: 0.9666 - val_loss: 0.0903 - val_accuracy: 0.9727\n",
      "Epoch 11/30\n",
      "65/65 [==============================] - 99s 2s/step - loss: 0.1105 - accuracy: 0.9598 - val_loss: 0.2404 - val_accuracy: 0.9023\n",
      "Epoch 12/30\n",
      "65/65 [==============================] - 98s 2s/step - loss: 0.1166 - accuracy: 0.9584 - val_loss: 0.0721 - val_accuracy: 0.9766\n",
      "Epoch 13/30\n",
      "65/65 [==============================] - 122s 2s/step - loss: 0.0664 - accuracy: 0.9758 - val_loss: 0.0761 - val_accuracy: 0.9805\n",
      "Epoch 14/30\n",
      "65/65 [==============================] - 114s 2s/step - loss: 0.0492 - accuracy: 0.9850 - val_loss: 0.1087 - val_accuracy: 0.9727\n",
      "Epoch 15/30\n",
      "65/65 [==============================] - 99s 2s/step - loss: 0.0496 - accuracy: 0.9811 - val_loss: 0.0811 - val_accuracy: 0.9727\n",
      "Epoch 16/30\n",
      "65/65 [==============================] - 101s 2s/step - loss: 0.0551 - accuracy: 0.9835 - val_loss: 0.3048 - val_accuracy: 0.9023\n",
      "Epoch 17/30\n",
      "65/65 [==============================] - 997s 16s/step - loss: 0.0779 - accuracy: 0.9734 - val_loss: 0.0758 - val_accuracy: 0.9805\n",
      "Epoch 18/30\n",
      "65/65 [==============================] - 102s 2s/step - loss: 0.0546 - accuracy: 0.9840 - val_loss: 0.0521 - val_accuracy: 0.9844\n",
      "Epoch 19/30\n",
      "65/65 [==============================] - 114s 2s/step - loss: 0.0726 - accuracy: 0.9739 - val_loss: 0.0839 - val_accuracy: 0.9727\n",
      "Epoch 20/30\n",
      "65/65 [==============================] - 106s 2s/step - loss: 0.0517 - accuracy: 0.9806 - val_loss: 0.0723 - val_accuracy: 0.9844\n",
      "Epoch 21/30\n",
      "65/65 [==============================] - 106s 2s/step - loss: 0.0498 - accuracy: 0.9831 - val_loss: 0.0534 - val_accuracy: 0.9883\n",
      "Epoch 22/30\n",
      "65/65 [==============================] - 111s 2s/step - loss: 0.0499 - accuracy: 0.9826 - val_loss: 0.0787 - val_accuracy: 0.9766\n",
      "Epoch 23/30\n",
      "65/65 [==============================] - 103s 2s/step - loss: 0.0517 - accuracy: 0.9816 - val_loss: 0.0563 - val_accuracy: 0.9922\n",
      "Epoch 24/30\n",
      "65/65 [==============================] - 131s 2s/step - loss: 0.0364 - accuracy: 0.9898 - val_loss: 0.0286 - val_accuracy: 0.9883\n",
      "Epoch 25/30\n",
      "65/65 [==============================] - 108s 2s/step - loss: 0.0294 - accuracy: 0.9889 - val_loss: 0.0958 - val_accuracy: 0.9648\n",
      "Epoch 26/30\n",
      "65/65 [==============================] - 100s 2s/step - loss: 0.0458 - accuracy: 0.9831 - val_loss: 0.0548 - val_accuracy: 0.9883\n",
      "Epoch 27/30\n",
      "65/65 [==============================] - 100s 2s/step - loss: 0.0496 - accuracy: 0.9840 - val_loss: 0.1046 - val_accuracy: 0.9648\n",
      "Epoch 28/30\n",
      "65/65 [==============================] - 107s 2s/step - loss: 0.0356 - accuracy: 0.9845 - val_loss: 0.0299 - val_accuracy: 0.9883\n",
      "Epoch 29/30\n",
      "65/65 [==============================] - 102s 2s/step - loss: 0.0433 - accuracy: 0.9860 - val_loss: 0.0480 - val_accuracy: 0.9883\n",
      "Epoch 30/30\n",
      "65/65 [==============================] - 98s 2s/step - loss: 0.0388 - accuracy: 0.9874 - val_loss: 0.0457 - val_accuracy: 0.9883\n"
     ]
    }
   ],
   "source": [
    "# # Train the model\n",
    "history = model.fit(train_ds,epochs=epochs,batch_size=bsize,verbose=1, validation_data=val_ds)"
   ]
  },
  {
   "cell_type": "code",
   "execution_count": 12,
   "metadata": {},
   "outputs": [
    {
     "name": "stdout",
     "output_type": "stream",
     "text": [
      "8/8 [==============================] - 11s 284ms/step - loss: 0.0593 - accuracy: 0.9805\n",
      "Test Loss: 0.059334300458431244\n",
      "Test Accuracy: 0.98046875\n"
     ]
    }
   ],
   "source": [
    "\n",
    "# # Evaluate the model\n",
    "test_loss, test_acc = model.evaluate(test_ds)\n",
    "print(\"Test Loss:\", test_loss)\n",
    "print(\"Test Accuracy:\", test_acc)"
   ]
  },
  {
   "cell_type": "code",
   "execution_count": 13,
   "metadata": {},
   "outputs": [
    {
     "data": {
      "text/plain": [
       "[<matplotlib.lines.Line2D at 0x29d4eef2c90>]"
      ]
     },
     "execution_count": 13,
     "metadata": {},
     "output_type": "execute_result"
    },
    {
     "data": {
      "image/png": "[encoded data removed]",
      "text/plain": [
       "<Figure size 640x480 with 1 Axes>"
      ]
     },
     "metadata": {},
     "output_type": "display_data"
    }
   ],
   "source": [
    "plt.plot(range(epochs),history.history['accuracy'])"
   ]
  },
  {
   "cell_type": "code",
   "execution_count": 14,
   "metadata": {},
   "outputs": [],
   "source": [
    "import pickle\n",
    "pickle.dump(model,open('helplant','wb'))"
   ]
  },
  {
   "cell_type": "code",
   "execution_count": 15,
   "metadata": {},
   "outputs": [],
   "source": [
    "loaded_model = pickle.load(open('helpplant','rb'))"
   ]
  },
  {
   "cell_type": "code",
   "execution_count": 16,
   "metadata": {},
   "outputs": [],
   "source": [
    "# Load the model\n",
    "#loaded_model = joblib.load('helpplant')\n",
    "\n",
    "# Open and load the image using Pillow\n",
    "#image = Image.open('h.jpg')\n",
    "\n",
    "# Check if the image was loaded successfully\n",
    "#if image is not None:\n",
    "    # Resize the image to the desired size (e.g., 224x224)\n",
    "  #  image = image.resize((256, 256))\n",
    "\n",
    "    # Convert the image to float32\n",
    "  #  image = np.array(image, dtype=np.float32)\n",
    "\n",
    "    # Normalize pixel values to the range [0, 1]\n",
    "  #  image /= 255.0\n",
    "#\n",
    "    # Make predictions using the loaded model\n",
    "   # predictions = loaded_model.predict(np.expand_dims(image, axis=0))\n",
    "\n",
    "    # Print the predictions or perform further actions\n",
    "   # print(x[np.argmax(predictions)])\n",
    "    #print(predictions)\n",
    "#else:\n",
    "   # print(\"Failed to load the image.\")"
   ]
  }
 ],
 "metadata": {
  "kernelspec": {
   "display_name": "Python 3 (ipykernel)",
   "language": "python",
   "name": "python3"
  },
  "language_info": {
   "codemirror_mode": {
    "name": "ipython",
    "version": 3
   },
   "file_extension": ".py",
   "mimetype": "text/x-python",
   "name": "python",
   "nbconvert_exporter": "python",
   "pygments_lexer": "ipython3",
   "version": "3.11.5"
  }
 },
 "nbformat": 4,
 "nbformat_minor": 2
}
